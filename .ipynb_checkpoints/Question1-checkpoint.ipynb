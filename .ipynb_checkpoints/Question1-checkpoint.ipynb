{
 "cells": [
  {
   "cell_type": "code",
   "execution_count": 145,
   "id": "cd75d36f",
   "metadata": {},
   "outputs": [],
   "source": [
    "import numpy as np\n",
    "import pandas as pd\n",
    "import matplotlib.pyplot as plt \n",
    "from scipy import stats"
   ]
  },
  {
   "cell_type": "code",
   "execution_count": 146,
   "id": "bf710cb0",
   "metadata": {},
   "outputs": [],
   "source": [
    "#Hypothesis Testing: Is there a difference in the number of Covid-19 cases between blue and red states?\n",
    "\n",
    "#Null Hypothesis: There is no difference in the mean of number of Covid-19 cases between blue and red states. \n",
    "\n",
    "stateCases = pd.read_csv('./datasets/covid-cases-data/United_States_COVID-19_Cases_and_Deaths_by_State_over_Time.csv') \n",
    "#print(stateCases)\n",
    "\n",
    "stateMeta = pd.read_csv('./datasets/covid-state-data-agg/COVID19_state.csv')\n",
    "#print(stateMeta)\n",
    "\n",
    "#Blue Red States is based on year 2020\n",
    "BRStates = pd.read_csv('./datasets/BlueRedStates.csv')\n",
    "#print(BRStates)\n",
    "\n",
    "stateMeta = stateMeta.merge(BRStates, left_on='State', right_on='stateName')\n",
    "#print(stateMeta)\n",
    "\n",
    "#Gather only covid cases in the year 2020\n",
    "stateCases['submission_date'] = pd.to_datetime(stateCases.submission_date, format='%m/%d/%Y')\n",
    "\n",
    "stateCases2020 = stateCases[stateCases['submission_date'].dt.year == 2020]\n",
    "#print(stateCases2020)\n",
    "\n",
    "#Create 2 dataframes one on blue states and the other on red states \n",
    "blueCode = BRStates[BRStates['BlueRed'] == 'B'].stateCode\n",
    "redCode = BRStates[BRStates['BlueRed'] == 'R'].stateCode"
   ]
  },
  {
   "cell_type": "code",
   "execution_count": 147,
   "id": "3517477a",
   "metadata": {},
   "outputs": [],
   "source": [
    "#8625 blue entries\n",
    "blueStates = stateCases2020[stateCases2020['state'].isin(blueCode)]\n",
    "#print(blueStates)\n",
    "NYC = stateCases2020[stateCases2020['state'] == 'NYC']['new_case'].sum()\n",
    "\n",
    "blueStatesTot = blueStates.groupby('state')['new_case'].sum()\n",
    "blueStatesTot['NY'] = blueStatesTot['NY'] + NYC \n",
    "blueStatesPop = stateMeta[stateMeta['stateCode'].isin(blueCode)]['Population']\n",
    "blueStates = pd.DataFrame({'state code': blueStatesTot.index, 'total cases': blueStatesTot.values, 'population': blueStatesPop})\n",
    "\n",
    "#Normalize each state by its population\n",
    "blueStates['case ratio'] = blueStates['total cases'] / blueStates['population']"
   ]
  },
  {
   "cell_type": "code",
   "execution_count": 148,
   "id": "d6945e9b",
   "metadata": {},
   "outputs": [],
   "source": [
    "#8280 red entries\n",
    "redStates = stateCases2020[stateCases2020['state'].isin(redCode)]\n",
    "#print(redStates)\n",
    "\n",
    "redStatesTot = redStates.groupby('state')['new_case'].sum()\n",
    "redStatesPop = stateMeta[stateMeta['stateCode'].isin(redCode)]['Population']\n",
    "redStates = pd.DataFrame({'state code': redStatesTot.index, 'total cases': redStatesTot.values, 'population': redStatesPop})\n",
    "\n",
    "#Normalize each state by its population\n",
    "redStates['case ratio'] = redStates['total cases'] / redStates['population']"
   ]
  },
  {
   "cell_type": "code",
   "execution_count": 149,
   "id": "61090023",
   "metadata": {},
   "outputs": [
    {
     "data": {
      "image/png": "[encoded data removed]",
      "text/plain": [
       "<Figure size 432x288 with 1 Axes>"
      ]
     },
     "metadata": {
      "needs_background": "light"
     },
     "output_type": "display_data"
    },
    {
     "name": "stdout",
     "output_type": "stream",
     "text": [
      "   state code  total cases  population  case ratio\n",
      "3          AZ     520559.0     7378494    0.070551\n",
      "4          CA    2231552.0    39937489    0.055876\n",
      "5          CO     347198.0     5845526    0.059396\n",
      "6          CT     185708.0     3563077    0.052120\n",
      "7          DE      58847.0      982895    0.059871\n",
      "9          GA     666452.0    10736059    0.062076\n",
      "10         HI      21026.0     1412687    0.014884\n",
      "13         IL     963389.0    12659682    0.076099\n",
      "18         MA     373473.0     6976597    0.053532\n",
      "19         MD     280219.0     6083116    0.046065\n",
      "20         ME      24201.0     1345790    0.017983\n",
      "21         MI     589728.0    10045029    0.058708\n",
      "22         MN     415302.0     5700671    0.072851\n",
      "29         NH      44028.0     1371246    0.032108\n",
      "30         NJ     527784.0     8936574    0.059059\n",
      "31         NM     142864.0     2096640    0.068139\n",
      "32         NV     224731.0     3139658    0.071578\n",
      "33         NY     990626.0    19440469    0.050957\n",
      "36         OR     113909.0     4301089    0.026484\n",
      "37         PA     648569.0    12820878    0.050587\n",
      "38         RI      89476.0     1056161    0.084718\n",
      "44         VA     354767.0     8626207    0.041127\n",
      "45         VT       6966.0      628061    0.011091\n",
      "46         WA     246413.0     7797095    0.031603\n",
      "47         WI     520438.0     5851754    0.088937\n"
     ]
    }
   ],
   "source": [
    "#plt.plot(blueStates['state code'], blueStates['case ratio'], '-o')\n",
    "fig = plt.figure(1)\n",
    "ax = fig.add_axes([0,0,1,1])\n",
    "ax.bar(blueStates['state code'], blueStates['case ratio'])\n",
    "plt.xlabel('Blue States')\n",
    "plt.ylabel('Case Ratios')\n",
    "plt.show()\n",
    "print(blueStates)"
   ]
  },
  {
   "cell_type": "code",
   "execution_count": 150,
   "id": "fdab6962",
   "metadata": {},
   "outputs": [
    {
     "data": {
      "image/png": "[encoded data removed]",
      "text/plain": [
       "<Figure size 432x288 with 1 Axes>"
      ]
     },
     "metadata": {
      "needs_background": "light"
     },
     "output_type": "display_data"
    },
    {
     "name": "stdout",
     "output_type": "stream",
     "text": [
      "   state code  total cases  population  case ratio\n",
      "0          AK      45771.0      734002    0.062358\n",
      "1          AL     362094.0     4908621    0.073767\n",
      "2          AR     225138.0     3038999    0.074083\n",
      "8          FL    1318256.0    21992985    0.059940\n",
      "11         IA     280669.0     3179849    0.088265\n",
      "12         ID     141077.0     1826156    0.077254\n",
      "14         IN     511698.0     6745354    0.075859\n",
      "15         KS     222433.0     2910357    0.076428\n",
      "16         KY     275530.0     4499692    0.061233\n",
      "17         LA     315275.0     4645184    0.067871\n",
      "23         MO     449569.0     6169270    0.072872\n",
      "24         MS     221928.0     2989260    0.074242\n",
      "25         MT      81555.0     1086759    0.075044\n",
      "26         NC     550145.0    10611862    0.051842\n",
      "27         ND      92770.0      761723    0.121790\n",
      "28         NE     167233.0     1952570    0.085648\n",
      "34         OH     700380.0    11747694    0.059619\n",
      "35         OK     325524.0     3954821    0.082311\n",
      "39         SC     317350.0     5210095    0.060911\n",
      "40         SD      99164.0      903027    0.109813\n",
      "41         TN     576503.0     6897576    0.083581\n",
      "42         TX    1688697.0    29472295    0.057298\n",
      "43         UT     276612.0     3282115    0.084279\n",
      "48         WV      85334.0     1778070    0.047992\n",
      "49         WY      44409.0      567025    0.078319\n"
     ]
    }
   ],
   "source": [
    "#plt.plot(redStates['state code'], redStates['case ratio'], '-ro')\n",
    "fig = plt.figure(2)\n",
    "ax = fig.add_axes([0,0,1,1])\n",
    "ax.bar(redStates['state code'], redStates['case ratio'], color = 'r')\n",
    "plt.xlabel('Red States')\n",
    "plt.ylabel('Case Ratios')\n",
    "plt.show()\n",
    "print(redStates)"
   ]
  },
  {
   "cell_type": "code",
   "execution_count": 144,
   "id": "265b7c83",
   "metadata": {},
   "outputs": [
    {
     "data": {
      "text/plain": [
       "Ttest_indResult(statistic=-2.5060885640909056, pvalue=0.015650455270349885)"
      ]
     },
     "execution_count": 144,
     "metadata": {},
     "output_type": "execute_result"
    }
   ],
   "source": [
    "#Run an independent t-test on the two populations/groups to check whether or not there is a difference in their means \n",
    "stats.ttest_ind(blueStates['case ratio'], redStates['case ratio'])\n",
    "\n",
    "#the p-value < 0.05 "
   ]
  }
 ],
 "metadata": {
  "kernelspec": {
   "display_name": "Python 3",
   "language": "python",
   "name": "python3"
  },
  "language_info": {
   "codemirror_mode": {
    "name": "ipython",
    "version": 3
   },
   "file_extension": ".py",
   "mimetype": "text/x-python",
   "name": "python",
   "nbconvert_exporter": "python",
   "pygments_lexer": "ipython3",
   "version": "3.8.8"
  }
 },
 "nbformat": 4,
 "nbformat_minor": 5
}
