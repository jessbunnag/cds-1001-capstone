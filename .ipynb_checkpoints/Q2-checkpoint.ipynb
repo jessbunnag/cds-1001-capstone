{
 "cells": [
  {
   "cell_type": "code",
   "execution_count": 1,
   "id": "b38274f6",
   "metadata": {},
   "outputs": [],
   "source": [
    "import pandas as pd\n",
    "import numpy as np\n",
    "import matplotlib.pyplot as plt\n",
    "import seaborn as sns\n",
    "from sklearn.model_selection import train_test_split\n",
    "from sklearn.linear_model import LogisticRegression\n",
    "from sklearn.feature_selection import SelectFromModel\n",
    "from sklearn import metrics"
   ]
  },
  {
   "cell_type": "code",
   "execution_count": 2,
   "id": "f2b189b9",
   "metadata": {},
   "outputs": [],
   "source": [
    "# Ignore any warning\n",
    "import warnings\n",
    "warnings.filterwarnings('ignore')"
   ]
  },
  {
   "cell_type": "code",
   "execution_count": 6,
   "id": "8abe1e96",
   "metadata": {},
   "outputs": [],
   "source": [
    "factors = pd.read_csv('./datasets/covid-state-data-agg/COVID19_state.csv')\n",
    "covid_cases = pd.read_csv('./datasets/covid-cases-data/United_States_COVID-19_Cases_and_Deaths_by_State_over_Time.csv')\n",
    "red_blue = pd.read_csv('./BlueRedStates.csv')\n",
    "trips = pd.read_csv('./datasets/bts-travel-data/State_trips.csv')"
   ]
  },
  {
   "cell_type": "code",
   "execution_count": 5,
   "id": "e354c0e0",
   "metadata": {},
   "outputs": [
    {
     "data": {
      "text/html": [
       "<div>\n",
       "<style scoped>\n",
       "    .dataframe tbody tr th:only-of-type {\n",
       "        vertical-align: middle;\n",
       "    }\n",
       "\n",
       "    .dataframe tbody tr th {\n",
       "        vertical-align: top;\n",
       "    }\n",
       "\n",
       "    .dataframe thead th {\n",
       "        text-align: right;\n",
       "    }\n",
       "</style>\n",
       "<table border=\"1\" class=\"dataframe\">\n",
       "  <thead>\n",
       "    <tr style=\"text-align: right;\">\n",
       "      <th></th>\n",
       "      <th>State</th>\n",
       "      <th>Tested</th>\n",
       "      <th>Infected</th>\n",
       "      <th>Deaths</th>\n",
       "      <th>Population</th>\n",
       "      <th>Pop Density</th>\n",
       "      <th>Gini</th>\n",
       "      <th>ICU Beds</th>\n",
       "      <th>Income</th>\n",
       "      <th>GDP</th>\n",
       "      <th>...</th>\n",
       "      <th>Hospitals</th>\n",
       "      <th>Health Spending</th>\n",
       "      <th>Pollution</th>\n",
       "      <th>Med-Large Airports</th>\n",
       "      <th>Temperature</th>\n",
       "      <th>Urban</th>\n",
       "      <th>Age 0-25</th>\n",
       "      <th>Age 26-54</th>\n",
       "      <th>Age 55+</th>\n",
       "      <th>School Closure Date</th>\n",
       "    </tr>\n",
       "  </thead>\n",
       "  <tbody>\n",
       "    <tr>\n",
       "      <th>0</th>\n",
       "      <td>Alaska</td>\n",
       "      <td>620170</td>\n",
       "      <td>17057</td>\n",
       "      <td>84</td>\n",
       "      <td>734002</td>\n",
       "      <td>1.2863</td>\n",
       "      <td>0.4081</td>\n",
       "      <td>119</td>\n",
       "      <td>59687</td>\n",
       "      <td>73205</td>\n",
       "      <td>...</td>\n",
       "      <td>21</td>\n",
       "      <td>11064</td>\n",
       "      <td>6.4</td>\n",
       "      <td>1.0</td>\n",
       "      <td>26.6</td>\n",
       "      <td>66.0</td>\n",
       "      <td>0.36</td>\n",
       "      <td>0.39</td>\n",
       "      <td>0.25</td>\n",
       "      <td>03/19/20</td>\n",
       "    </tr>\n",
       "    <tr>\n",
       "      <th>1</th>\n",
       "      <td>Alabama</td>\n",
       "      <td>1356420</td>\n",
       "      <td>194892</td>\n",
       "      <td>2973</td>\n",
       "      <td>4908621</td>\n",
       "      <td>96.9221</td>\n",
       "      <td>0.4847</td>\n",
       "      <td>1533</td>\n",
       "      <td>42334</td>\n",
       "      <td>45219</td>\n",
       "      <td>...</td>\n",
       "      <td>101</td>\n",
       "      <td>7281</td>\n",
       "      <td>8.1</td>\n",
       "      <td>1.0</td>\n",
       "      <td>62.8</td>\n",
       "      <td>59.0</td>\n",
       "      <td>0.33</td>\n",
       "      <td>0.37</td>\n",
       "      <td>0.31</td>\n",
       "      <td>03/16/20</td>\n",
       "    </tr>\n",
       "    <tr>\n",
       "      <th>2</th>\n",
       "      <td>Arkansas</td>\n",
       "      <td>1363429</td>\n",
       "      <td>113641</td>\n",
       "      <td>1985</td>\n",
       "      <td>3038999</td>\n",
       "      <td>58.4030</td>\n",
       "      <td>0.4719</td>\n",
       "      <td>732</td>\n",
       "      <td>42566</td>\n",
       "      <td>42454</td>\n",
       "      <td>...</td>\n",
       "      <td>88</td>\n",
       "      <td>7408</td>\n",
       "      <td>7.1</td>\n",
       "      <td>0.0</td>\n",
       "      <td>60.4</td>\n",
       "      <td>56.2</td>\n",
       "      <td>0.34</td>\n",
       "      <td>0.37</td>\n",
       "      <td>0.30</td>\n",
       "      <td>03/17/20</td>\n",
       "    </tr>\n",
       "    <tr>\n",
       "      <th>3</th>\n",
       "      <td>Arizona</td>\n",
       "      <td>1792602</td>\n",
       "      <td>248139</td>\n",
       "      <td>5982</td>\n",
       "      <td>7378494</td>\n",
       "      <td>64.9550</td>\n",
       "      <td>0.4713</td>\n",
       "      <td>1559</td>\n",
       "      <td>43650</td>\n",
       "      <td>48055</td>\n",
       "      <td>...</td>\n",
       "      <td>83</td>\n",
       "      <td>6452</td>\n",
       "      <td>9.7</td>\n",
       "      <td>1.0</td>\n",
       "      <td>60.3</td>\n",
       "      <td>89.8</td>\n",
       "      <td>0.33</td>\n",
       "      <td>0.36</td>\n",
       "      <td>0.30</td>\n",
       "      <td>03/16/20</td>\n",
       "    </tr>\n",
       "    <tr>\n",
       "      <th>4</th>\n",
       "      <td>California</td>\n",
       "      <td>18912501</td>\n",
       "      <td>930628</td>\n",
       "      <td>17672</td>\n",
       "      <td>39937489</td>\n",
       "      <td>256.3727</td>\n",
       "      <td>0.4899</td>\n",
       "      <td>7338</td>\n",
       "      <td>62586</td>\n",
       "      <td>74205</td>\n",
       "      <td>...</td>\n",
       "      <td>359</td>\n",
       "      <td>7549</td>\n",
       "      <td>12.8</td>\n",
       "      <td>9.0</td>\n",
       "      <td>59.4</td>\n",
       "      <td>95.0</td>\n",
       "      <td>0.33</td>\n",
       "      <td>0.40</td>\n",
       "      <td>0.26</td>\n",
       "      <td>03/19/20</td>\n",
       "    </tr>\n",
       "  </tbody>\n",
       "</table>\n",
       "<p>5 rows × 26 columns</p>\n",
       "</div>"
      ],
      "text/plain": [
       "        State    Tested  Infected  Deaths  Population  Pop Density    Gini  \\\n",
       "0      Alaska    620170     17057      84      734002       1.2863  0.4081   \n",
       "1     Alabama   1356420    194892    2973     4908621      96.9221  0.4847   \n",
       "2    Arkansas   1363429    113641    1985     3038999      58.4030  0.4719   \n",
       "3     Arizona   1792602    248139    5982     7378494      64.9550  0.4713   \n",
       "4  California  18912501    930628   17672    39937489     256.3727  0.4899   \n",
       "\n",
       "   ICU Beds  Income    GDP  ...  Hospitals  Health Spending  Pollution  \\\n",
       "0       119   59687  73205  ...         21            11064        6.4   \n",
       "1      1533   42334  45219  ...        101             7281        8.1   \n",
       "2       732   42566  42454  ...         88             7408        7.1   \n",
       "3      1559   43650  48055  ...         83             6452        9.7   \n",
       "4      7338   62586  74205  ...        359             7549       12.8   \n",
       "\n",
       "   Med-Large Airports  Temperature  Urban  Age 0-25  Age 26-54  Age 55+  \\\n",
       "0                 1.0         26.6   66.0      0.36       0.39     0.25   \n",
       "1                 1.0         62.8   59.0      0.33       0.37     0.31   \n",
       "2                 0.0         60.4   56.2      0.34       0.37     0.30   \n",
       "3                 1.0         60.3   89.8      0.33       0.36     0.30   \n",
       "4                 9.0         59.4   95.0      0.33       0.40     0.26   \n",
       "\n",
       "   School Closure Date  \n",
       "0             03/19/20  \n",
       "1             03/16/20  \n",
       "2             03/17/20  \n",
       "3             03/16/20  \n",
       "4             03/19/20  \n",
       "\n",
       "[5 rows x 26 columns]"
      ]
     },
     "execution_count": 5,
     "metadata": {},
     "output_type": "execute_result"
    }
   ],
   "source": [
    "factors.head()"
   ]
  },
  {
   "cell_type": "code",
   "execution_count": null,
   "id": "0014462d",
   "metadata": {},
   "outputs": [],
   "source": [
    "covid_cases.head()"
   ]
  },
  {
   "cell_type": "code",
   "execution_count": null,
   "id": "4b3493b8",
   "metadata": {},
   "outputs": [],
   "source": [
    "covid_cases['submission_date'] = pd.to_datetime(covid_cases['submission_date'])"
   ]
  },
  {
   "cell_type": "code",
   "execution_count": null,
   "id": "275c1353",
   "metadata": {},
   "outputs": [],
   "source": [
    "covid_cases = covid_cases.sort_values(by='submission_date', ascending = True)"
   ]
  },
  {
   "cell_type": "code",
   "execution_count": null,
   "id": "fd022d1c",
   "metadata": {},
   "outputs": [],
   "source": [
    "covid_cases.head()"
   ]
  },
  {
   "cell_type": "code",
   "execution_count": null,
   "id": "34b227b9",
   "metadata": {},
   "outputs": [],
   "source": [
    "covid_cases2 = covid_cases.loc[(covid_cases['submission_date'] < '2021-01-01')]"
   ]
  },
  {
   "cell_type": "code",
   "execution_count": null,
   "id": "baff005a",
   "metadata": {},
   "outputs": [],
   "source": [
    "tot_cases = covid_cases2.groupby('state').sum()[['new_case']]\n",
    "tot_cases['new_case']['NY'] = sum(tot_cases.loc['NYC'], tot_cases.loc['NY'])"
   ]
  },
  {
   "cell_type": "code",
   "execution_count": null,
   "id": "996775f9",
   "metadata": {},
   "outputs": [],
   "source": [
    "red_blue.head()"
   ]
  },
  {
   "cell_type": "code",
   "execution_count": null,
   "id": "ca573bdb",
   "metadata": {},
   "outputs": [],
   "source": [
    "BR_totcases = tot_cases.merge(red_blue, left_on='state', right_on='stateCode')"
   ]
  },
  {
   "cell_type": "code",
   "execution_count": null,
   "id": "77825346",
   "metadata": {},
   "outputs": [],
   "source": [
    "factors_BR_totcases = BR_totcases.merge(factors, left_on='stateName', right_on='State')"
   ]
  },
  {
   "cell_type": "code",
   "execution_count": null,
   "id": "5e3afe1b",
   "metadata": {},
   "outputs": [],
   "source": [
    "factors_BR_totcases['Case Rates'] = factors_BR_totcases['new_case']/factors_BR_totcases['Population']"
   ]
  },
  {
   "cell_type": "code",
   "execution_count": null,
   "id": "b0763e6b",
   "metadata": {},
   "outputs": [],
   "source": [
    "trips['Date'] = pd.to_datetime(trips['Date'])\n",
    "trips2 = trips.loc[((trips['Date'] < '2021-01-01') & (trips['Date'] > '2019-12-31'))]"
   ]
  },
  {
   "cell_type": "code",
   "execution_count": null,
   "id": "536d546d",
   "metadata": {},
   "outputs": [],
   "source": [
    "#trips2['Number of Trips'] = trips2['Number of Trips'].astype('str')\n",
    "#trips2['Number of Trips'] = trips2['Number of Trips'].replace(',', '')\n",
    "trips2['Number of Trips'].replace(',','', regex=True, inplace=True)\n",
    "trips2['Number of Trips'] = trips2['Number of Trips'].apply(pd.to_numeric,errors='coerce')\n",
    "trips3 = trips2.groupby('State Postal Code').sum()[['Number of Trips']]"
   ]
  },
  {
   "cell_type": "code",
   "execution_count": null,
   "id": "2077a202",
   "metadata": {},
   "outputs": [],
   "source": [
    "#merging trip aggregate data with other data into final data table\n",
    "final_data = factors_BR_totcases.merge(trips3, left_on='stateCode', right_on='State Postal Code')\n",
    "final_data['Travel Rates'] = final_data['Number of Trips']/final_data['Population']"
   ]
  },
  {
   "cell_type": "code",
   "execution_count": null,
   "id": "ea576a39",
   "metadata": {},
   "outputs": [],
   "source": [
    "final_data.set_index('stateCode',inplace=True)"
   ]
  },
  {
   "cell_type": "code",
   "execution_count": null,
   "id": "45f4b18b",
   "metadata": {},
   "outputs": [],
   "source": [
    "clean_data = final_data.drop(columns = ['new_case','stateName','State','Tested','Infected','Deaths','Pop Density',\n",
    "                                        'Flu Deaths','Respiratory Deaths','School Closure Date', 'Number of Trips'])"
   ]
  },
  {
   "cell_type": "code",
   "execution_count": null,
   "id": "8ada0798",
   "metadata": {},
   "outputs": [],
   "source": [
    "X = clean_data.copy().drop(columns = 'BlueRed')\n",
    "Y = clean_data['BlueRed']\n",
    "\n",
    "X_train, X_test, Y_train, Y_test = train_test_split(X, Y, test_size = 0.2,\n",
    "                                                   shuffle = False)\n",
    "\n",
    "selector = SelectFromModel(estimator=LogisticRegression()).fit(X_train, \n",
    "                                                               Y_train)\n",
    "coefs = selector.estimator_.coef_\n",
    "thresh = selector.threshold_\n",
    "support = selector.get_support()\n",
    "X_selected = selector.transform(X_train)\n",
    "X_test = selector.transform(X_test)\n",
    "logistic = LogisticRegression(penalty='l1',solver='liblinear',\n",
    "                               random_state=7).fit(X_selected, Y_train)\n",
    "Y_pred = logistic.predict(X_test)\n",
    "\n",
    "confusion = metrics.confusion_matrix(Y_test, Y_pred)\n",
    "fig, ax = plt.subplots(figsize = [8,8])\n",
    "sns.heatmap(confusion, annot=True, cmap=\"YlGnBu\" ,fmt='g')\n",
    "plt.title('Confusion Matrix', size = 16)\n",
    "plt.xlabel('Predicted Label', size = 12)\n",
    "plt.ylabel('Actual Label', size = 12)\n",
    "ax.xaxis.set_label_position(\"top\")\n",
    "plt.show()\n",
    "\n",
    "# Y_true = []\n",
    "# for idx in range(0,Y_pred.size):\n",
    "#     if Y_pred[idx] == Y_test[idx]:\n",
    "#         Y_true.append(1)\n",
    "#     else:\n",
    "#         Y_true.append(0)\n",
    "\n",
    "Y_test_num = []\n",
    "for idx in range(0, Y_test.size):\n",
    "    if Y_test[idx] == 'B':\n",
    "        Y_test_num.append(1)\n",
    "    else:\n",
    "        Y_test_num.append(0)"
   ]
  },
  {
   "cell_type": "code",
   "execution_count": null,
   "id": "bc1772bd",
   "metadata": {},
   "outputs": [],
   "source": [
    "feature_names = X.columns\n",
    "importance = abs(coefs.T[:,0])\n",
    "plt.figure(figsize = (8,8))\n",
    "plt.barh(np.linspace(1,len(importance),len(importance)),importance,\n",
    "         tick_label=feature_names) \n",
    "plt.axvline(x=thresh, color = 'r', label = 'Threshold at 1.46e-4')\n",
    "plt.title('Coefficients for Features', size = 16)\n",
    "plt.xlabel('Coefficients', size = 12)\n",
    "plt.ylabel('Feature Names', size = 12)\n",
    "plt.legend()\n",
    "plt.show()"
   ]
  },
  {
   "cell_type": "code",
   "execution_count": null,
   "id": "2097ea9c",
   "metadata": {},
   "outputs": [],
   "source": [
    "selected_features = []\n",
    "for idx in range(0, len(X.columns)):\n",
    "    if support[idx]:\n",
    "        selected_features.append(X.columns[idx])\n",
    "print('Selected Features:', selected_features)"
   ]
  },
  {
   "cell_type": "code",
   "execution_count": null,
   "id": "218875dd",
   "metadata": {},
   "outputs": [],
   "source": [
    "Y_pred_proba = logistic.predict_proba(X_test)[::,1]\n",
    "fpr, tpr, _ = metrics.roc_curve(Y_test_num,  Y_pred_proba)\n",
    "auc = metrics.roc_auc_score(Y_test_num, Y_pred_proba)\n",
    "plt.plot(fpr,tpr,label=\"auc=\"+str(auc))\n",
    "plt.legend()\n",
    "plt.show()"
   ]
  },
  {
   "cell_type": "code",
   "execution_count": null,
   "id": "a736e74d",
   "metadata": {},
   "outputs": [],
   "source": []
  }
 ],
 "metadata": {
  "kernelspec": {
   "display_name": "Python 3",
   "language": "python",
   "name": "python3"
  },
  "language_info": {
   "codemirror_mode": {
    "name": "ipython",
    "version": 3
   },
   "file_extension": ".py",
   "mimetype": "text/x-python",
   "name": "python",
   "nbconvert_exporter": "python",
   "pygments_lexer": "ipython3",
   "version": "3.8.8"
  }
 },
 "nbformat": 4,
 "nbformat_minor": 5
}
